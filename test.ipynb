{
 "cells": [
  {
   "cell_type": "code",
   "execution_count": 11,
   "metadata": {},
   "outputs": [],
   "source": [
    "import requests\n",
    "\n",
    "url = \"http://127.0.0.1:8000/tts/generate\"\n",
    "data = {\n",
    "    \"text\": \"안녕하세요\",\n",
    "    \"voice_id\": \"EN-US\",\n",
    "    \"language\" : \"KR\",\n",
    "    \"sr\": 22050,\n",
    "    \"speed\": 1.0\n",
    "}\n",
    "response = requests.post(url, json=data, stream=True)\n",
    "\n",
    "with open(\"output.wav\", \"wb\") as f:\n",
    "    for chunk in response.iter_content(chunk_size=1024):\n",
    "        if chunk:\n",
    "            f.write(chunk)"
   ]
  },
  {
   "cell_type": "code",
   "execution_count": 14,
   "metadata": {},
   "outputs": [
    {
     "name": "stdout",
     "output_type": "stream",
     "text": [
      "언어가 한국어(KR)로 변경되었습니다.\n",
      "응답: {'status': 'Switched to KR language model', 'available_speakers': ['KR']}\n"
     ]
    }
   ],
   "source": [
    "import requests\n",
    "\n",
    "# 언어를 KR(한국어)로 변경하는 함수\n",
    "def change_language_to_korean():\n",
    "    url = \"http://localhost:8000/language/switch\"\n",
    "    \n",
    "    # 올바른 요청 형식: JSON 객체로 전송\n",
    "    payload = {\"language\": \"KR\"}\n",
    "    \n",
    "    response = requests.post(url, json=payload)\n",
    "    \n",
    "    if response.status_code == 200:\n",
    "        print(\"언어가 한국어(KR)로 변경되었습니다.\")\n",
    "        print(\"응답:\", response.json())\n",
    "    else:\n",
    "        print(f\"오류 발생: {response.status_code}\")\n",
    "        print(response.text)\n",
    "\n",
    "# 실행\n",
    "change_language_to_korean()"
   ]
  },
  {
   "cell_type": "code",
   "execution_count": 16,
   "metadata": {},
   "outputs": [
    {
     "name": "stdout",
     "output_type": "stream",
     "text": [
      "한국어 TTS가 생성되어 korean_tts_output.wav로 저장되었습니다.\n"
     ]
    }
   ],
   "source": [
    "import requests\n",
    "\n",
    "# 한국어 TTS 요청 함수\n",
    "def request_korean_tts(text=\"안녕하세요, 반갑습니다.\"):\n",
    "    url = \"http://localhost:8000/tts/generate\"\n",
    "    \n",
    "    payload = {\n",
    "        \"text\": text,\n",
    "        \"voice_id\": \"KR\",\n",
    "        \"speed\": 1.0\n",
    "    }\n",
    "    \n",
    "    response = requests.post(url, json=payload)\n",
    "    \n",
    "    if response.status_code == 200:\n",
    "        # 파일로 저장\n",
    "        with open(\"korean_tts_output.wav\", \"wb\") as f:\n",
    "            f.write(response.content)\n",
    "        print(\"한국어 TTS가 생성되어 korean_tts_output.wav로 저장되었습니다.\")\n",
    "    else:\n",
    "        print(f\"오류 발생: {response.status_code}\")\n",
    "        print(response.text)\n",
    "\n",
    "# 실행 (원하는 텍스트로 변경 가능)\n",
    "request_korean_tts(\"안녕하세요, 한국어 음성 합성 테스트입니다.\")"
   ]
  },
  {
   "cell_type": "code",
   "execution_count": null,
   "metadata": {},
   "outputs": [],
   "source": []
  }
 ],
 "metadata": {
  "kernelspec": {
   "display_name": "tts_melo_2",
   "language": "python",
   "name": "python3"
  },
  "language_info": {
   "codemirror_mode": {
    "name": "ipython",
    "version": 3
   },
   "file_extension": ".py",
   "mimetype": "text/x-python",
   "name": "python",
   "nbconvert_exporter": "python",
   "pygments_lexer": "ipython3",
   "version": "3.10.16"
  }
 },
 "nbformat": 4,
 "nbformat_minor": 2
}
